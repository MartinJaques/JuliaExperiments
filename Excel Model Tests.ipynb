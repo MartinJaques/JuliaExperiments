{
 "cells": [
  {
   "cell_type": "markdown",
   "metadata": {},
   "source": [
    "# Excel Testing Notebook\n",
    "\n"
   ]
  },
  {
   "cell_type": "code",
   "execution_count": 1,
   "metadata": {
    "collapsed": false
   },
   "outputs": [
    {
     "name": "stderr",
     "output_type": "stream",
     "text": [
      "WARNING: requiring \"Dates\" in module \"Main\" did not define a corresponding module.\n"
     ]
    }
   ],
   "source": [
    "#pull in some useful modules\n",
    "using DataFrames #DataFrames is based on similar concepts in R and Python and gives us indexed tables with headers\n",
    "using Dates"
   ]
  },
  {
   "cell_type": "markdown",
   "metadata": {},
   "source": [
    "## Read_Generic_Table style lookup\n",
    "\n",
    "Implimented as a macro so a bunch of work is done a compile time. Much like Read_Generic_Table this means a single code entry can be used to lookup any table with any number of indexes. The macro reformats this at compile time into the necessary DataFrames calls. It's not especially easy to follow, and there's no real way to ever see the code which is generated.. but arguably the same is true of Read_Generic_Table in Prophet."
   ]
  },
  {
   "cell_type": "code",
   "execution_count": 2,
   "metadata": {
    "collapsed": false
   },
   "outputs": [
    {
     "data": {
      "text/plain": [
       "@TableLookup (macro with 1 method)"
      ]
     },
     "execution_count": 2,
     "metadata": {},
     "output_type": "execute_result"
    }
   ],
   "source": [
    "macro TableLookup(t,returnColumn,indexes...)\n",
    "    for(ind,val) in enumerate(indexes) #loop through the list of supplied index conditions...\n",
    "        if(ind==1)\n",
    "            exp= :($t[$ind].==$val)\n",
    "        else\n",
    "            exp = :($exp & ($t[$ind].==$val)) #... and create a Julia expression of the form\n",
    "                                              # tableName[indexNum]==indexVal]\n",
    "        end\n",
    "        #@show(exp)\n",
    "    end\n",
    "\n",
    "    exp = :($t[$exp,Symbol(DataFrames.makeidentifier($returnColumn))][1]) ##final Julia expression to return\n",
    "    #exp = :($t[$exp,:])\n",
    "    #@show(exp)\n",
    "end\n",
    "    "
   ]
  },
  {
   "cell_type": "markdown",
   "metadata": {},
   "source": [
    "## Load some basis tables\n",
    "\n",
    "Broadly its bad practice to define anything as a global, but we will here for simplicity"
   ]
  },
  {
   "cell_type": "code",
   "execution_count": 3,
   "metadata": {
    "collapsed": false
   },
   "outputs": [
    {
     "data": {
      "text/html": [
       "<table class=\"data-frame\"><tr><th></th><th>DUR</th><th>x201412</th></tr><tr><th>1</th><td>0</td><td>0.384695331</td></tr><tr><th>2</th><td>1</td><td>0.384695331</td></tr><tr><th>3</th><td>2</td><td>0.408181475</td></tr><tr><th>4</th><td>3</td><td>0.431706662</td></tr><tr><th>5</th><td>4</td><td>0.455290414</td></tr><tr><th>6</th><td>5</td><td>0.478952254</td></tr><tr><th>7</th><td>6</td><td>0.502711704</td></tr><tr><th>8</th><td>7</td><td>0.526586786</td></tr><tr><th>9</th><td>8</td><td>0.550580543</td></tr><tr><th>10</th><td>9</td><td>0.574676539</td></tr><tr><th>11</th><td>10</td><td>0.598847551</td></tr><tr><th>12</th><td>11</td><td>0.623060474</td></tr><tr><th>13</th><td>12</td><td>0.647278768</td></tr><tr><th>14</th><td>13</td><td>0.671463782</td></tr><tr><th>15</th><td>14</td><td>0.695575508</td></tr><tr><th>16</th><td>15</td><td>0.719573032</td></tr><tr><th>17</th><td>16</td><td>0.743414817</td></tr><tr><th>18</th><td>17</td><td>0.767058889</td></tr><tr><th>19</th><td>18</td><td>0.790462954</td></tr><tr><th>20</th><td>19</td><td>0.813584957</td></tr><tr><th>21</th><td>20</td><td>0.83638796</td></tr><tr><th>22</th><td>21</td><td>0.858843621</td></tr><tr><th>23</th><td>22</td><td>0.880930649</td></tr><tr><th>24</th><td>23</td><td>0.902633274</td></tr><tr><th>25</th><td>24</td><td>0.923940093</td></tr><tr><th>26</th><td>25</td><td>0.944843198</td></tr><tr><th>27</th><td>26</td><td>0.965337507</td></tr><tr><th>28</th><td>27</td><td>0.985420234</td></tr><tr><th>29</th><td>28</td><td>1.005090486</td></tr><tr><th>30</th><td>29</td><td>1.024348932</td></tr><tr><th>&vellip;</th><td>&vellip;</td><td>&vellip;</td></tr></table>"
      ],
      "text/plain": [
       "721×2 DataFrames.DataFrame\n",
       "│ Row │ DUR │ x201412  │\n",
       "├─────┼─────┼──────────┤\n",
       "│ 1   │ 0   │ 0.384695 │\n",
       "│ 2   │ 1   │ 0.384695 │\n",
       "│ 3   │ 2   │ 0.408181 │\n",
       "│ 4   │ 3   │ 0.431707 │\n",
       "│ 5   │ 4   │ 0.45529  │\n",
       "│ 6   │ 5   │ 0.478952 │\n",
       "│ 7   │ 6   │ 0.502712 │\n",
       "│ 8   │ 7   │ 0.526587 │\n",
       "│ 9   │ 8   │ 0.550581 │\n",
       "│ 10  │ 9   │ 0.574677 │\n",
       "│ 11  │ 10  │ 0.598848 │\n",
       "⋮\n",
       "│ 710 │ 709 │ 2.25738  │\n",
       "│ 711 │ 710 │ 2.25802  │\n",
       "│ 712 │ 711 │ 2.25867  │\n",
       "│ 713 │ 712 │ 2.25932  │\n",
       "│ 714 │ 713 │ 2.25998  │\n",
       "│ 715 │ 714 │ 2.26064  │\n",
       "│ 716 │ 715 │ 2.26131  │\n",
       "│ 717 │ 716 │ 2.26199  │\n",
       "│ 718 │ 717 │ 2.26267  │\n",
       "│ 719 │ 718 │ 2.26336  │\n",
       "│ 720 │ 719 │ 2.26405  │\n",
       "│ 721 │ 720 │ 2.26475  │"
      ]
     },
     "execution_count": 3,
     "metadata": {},
     "output_type": "execute_result"
    }
   ],
   "source": [
    "ilq_Table = readtable(\"basTest_ilq.csv\")\n",
    "rfr_Table = readtable(\"basTest_rfr.csv\")"
   ]
  },
  {
   "cell_type": "markdown",
   "metadata": {},
   "source": [
    "## inline function defintion\n",
    "\n",
    "in Julia it's possible to define simple functions in the form `f(x) = 2x+1` which we use here to define two versions of the conversion from a yeild curve data to discrete spot rates. (really one would do but this demonstrates multiple dispatch a bit)"
   ]
  },
  {
   "cell_type": "code",
   "execution_count": 4,
   "metadata": {
    "collapsed": false
   },
   "outputs": [
    {
     "data": {
      "text/plain": [
       "ann_spot_rate (generic function with 2 methods)"
      ]
     },
     "execution_count": 4,
     "metadata": {},
     "output_type": "execute_result"
    }
   ],
   "source": [
    "ann_spot_rate(foi) = e^(foi/100)-1\n",
    "ann_spot_rate(foi,illiqPC) = (e^(foi/100)-1)*(illiqPC/100)"
   ]
  },
  {
   "cell_type": "markdown",
   "metadata": {},
   "source": [
    "## \"Dumb\" Conversion of v_Calc_Interest_Rates\n",
    "\n",
    "This version of the calculation approaches things like the excel model = everything is an array, and everything happens within one big loop, much like Prophet. It also does a bunch of work it doesn't need to where `spot_rate_freq` is set to something other than 12, because everything between `vsr` and `mfr` is essentially thrown away in the non-calc months, but I don't believe there's any way when converting the Excel formula to necessarily anticipate this."
   ]
  },
  {
   "cell_type": "code",
   "execution_count": 5,
   "metadata": {
    "collapsed": false
   },
   "outputs": [
    {
     "data": {
      "text/plain": [
       "v_interest_rates1 (generic function with 1 method)"
      ]
     },
     "execution_count": 5,
     "metadata": {},
     "output_type": "execute_result"
    }
   ],
   "source": [
    "function v_interest_rates1(maxTerm::Integer,yeildCurve::Integer,spot_rate_freq::Integer,illiqPC::Float64)\n",
    "    \n",
    "    #Array initialisation. Reasonable to expect we can antipate this from the Excel structure\n",
    "    rfr = zeros(maxTerm)\n",
    "    ilq = zeros(maxTerm)\n",
    "    vsr = zeros(maxTerm)\n",
    "    calc_forward_rate = zeros(maxTerm)\n",
    "    t1 = zeros(maxTerm)\n",
    "    t2 = zeros(maxTerm)\n",
    "    s1 = zeros(maxTerm)\n",
    "    s2 = zeros(maxTerm)\n",
    "    fra = zeros(maxTerm)\n",
    "    mfr = zeros(maxTerm)    \n",
    "   \n",
    "    #Column E\n",
    "    for t in 1:maxTerm #for each row...\n",
    "\n",
    "        #lookup risk free rate and illiquidity values and perfom the spot rate calc. The form here would only be possible\n",
    "        #if we'd also implimented as ann_spot_rate function in Excel\n",
    "        \n",
    "        #Columns F and G\n",
    "        rfr[t] = ann_spot_rate(@TableLookup(rfr_Table,string(yeildCurve),t))        \n",
    "        \n",
    "        #Columns H and I\n",
    "        ilq[t] = ann_spot_rate(@TableLookup(ilq_Table,string(yeildCurve),t),illiqPC)\n",
    "        \n",
    "        #Column J\n",
    "        vsr[t]=rfr[t]+ilq[t]\n",
    "        \n",
    "        #Column K\n",
    "        if mod((t-1)*spot_rate_freq,12)==0\n",
    "            calc_forward_rate[t]=1\n",
    "        else\n",
    "            calc_forward_rate[t]=0\n",
    "        end\n",
    "        \n",
    "        #Column L\n",
    "        if calc_forward_rate[t]==1\n",
    "            t1[t]=(t-1)/12\n",
    "        else\n",
    "            t1[t]=0\n",
    "        end\n",
    "        \n",
    "        #Column M\n",
    "        if calc_forward_rate[t]==1\n",
    "            t2[t]=t/12\n",
    "        else\n",
    "            t2[t]=0\n",
    "        end\n",
    "        \n",
    "        #Column N\n",
    "        if t>1\n",
    "          s1[t]=vsr[t-1]\n",
    "        else\n",
    "          s1[t]=vsr[t]\n",
    "        end\n",
    "        \n",
    "        #Column O\n",
    "        s2[t] = vsr[t]\n",
    "        \n",
    "        #Column P\n",
    "        if calc_forward_rate[t]==1\n",
    "            fra[t] = ((1+s2[t])^t2[t]/(1+s1[t])^t1[t])^(1/(t2[t]-t1[t]))-1\n",
    "        else\n",
    "            fra[t]= fra[t-1]\n",
    "        end\n",
    "        \n",
    "        #Column Q\n",
    "        mfr[t] = (1+fra[t])^(1/12)-1\n",
    "    end\n",
    "    \n",
    "    #Assume we've specified somehow that this is the value from the see we want available elsewhere\n",
    "    mfr\n",
    "end"
   ]
  },
  {
   "cell_type": "markdown",
   "metadata": {},
   "source": [
    "## \"Hand-coded\" Conversion of  v_Calc_Interest_Rates\n",
    "\n",
    "This version recognises that the entire yeild curve is required at some point, so retrieves it in one go (this is probably where the majority of the performance benefit is). It also does a better job of avoiding uncessary calculation and memory use by not retaining transient data and skipping the entire process on non-calc months."
   ]
  },
  {
   "cell_type": "code",
   "execution_count": 6,
   "metadata": {
    "collapsed": false
   },
   "outputs": [
    {
     "data": {
      "text/plain": [
       "v_interest_rates2 (generic function with 1 method)"
      ]
     },
     "execution_count": 6,
     "metadata": {},
     "output_type": "execute_result"
    }
   ],
   "source": [
    "function v_interest_rates2(maxTerm::Integer,yeildCurve::Integer,spot_rate_freq::Integer,illiqPC::Float64)\n",
    "\n",
    "    forward_rate = zeros(maxTerm)\n",
    "    monthly_forward_rate = zeros(maxTerm)\n",
    "    vsr = zeros(maxTerm)\n",
    "\n",
    "    #get the entire column from the table. There's probably a more reable way to do this\n",
    "    rfr_fofi = rfr_Table[Symbol(DataFrames.makeidentifier(string(yeildCurve)))] \n",
    "    ilq_fofi = ilq_Table[Symbol(DataFrames.makeidentifier(string(yeildCurve)))]\n",
    "\n",
    "    for t in 1:maxTerm\n",
    "\n",
    "        #potentially could make ann_spot_rate work on vectors and move this outside the loop\n",
    "        vsr[t] = ann_spot_rate(rfr_fofi[t]) + ann_spot_rate(ilq_fofi[t],illiqPC)\n",
    "\n",
    "        if t==1\n",
    "            forward_rate[t] = vsr[t]\n",
    "        elseif mod((t-1)*spot_rate_freq,12)==0\n",
    "            t1 = (t-1)/12\n",
    "            t2 = t/12\n",
    "            s1 = vsr[t-1]\n",
    "            s2 = vsr[t]\n",
    "\n",
    "            forward_rate[t] = ((1+s2)^t2/(1+s1)^t1)^(1/(t2-t1))-1\n",
    "\n",
    "        else\n",
    "            forward_rate[t] = forward_rate[t-1]\n",
    "        end\n",
    "        \n",
    "        monthly_forward_rate[t] = (1+forward_rate[t])^(1/12)-1\n",
    "    end\n",
    "\n",
    "    monthly_forward_rate\n",
    "end"
   ]
  },
  {
   "cell_type": "markdown",
   "metadata": {},
   "source": [
    "### Performance Testing\n",
    "\n",
    "v2 function is significantly quicker, and scales better - at 50 iterations is around 3x faster, on this 720 iteration loop it's over 10x faster. "
   ]
  },
  {
   "cell_type": "code",
   "execution_count": 13,
   "metadata": {
    "collapsed": false
   },
   "outputs": [
    {
     "name": "stdout",
     "output_type": "stream",
     "text": [
      "  0.008065 seconds (42.91 k allocations: 2.974 MB)\n",
      "  0.000653 seconds (8.36 k allocations: 148.438 KB)\n"
     ]
    },
    {
     "data": {
      "text/plain": [
       "720-element Array{Float64,1}:\n",
       " 0.000320631\n",
       " 0.000320631\n",
       " 0.000379367\n",
       " 0.000418656\n",
       " 0.000458126\n",
       " 0.000497842\n",
       " 0.000537868\n",
       " 0.000578261\n",
       " 0.000618967\n",
       " 0.000659835\n",
       " 0.00070071 \n",
       " 0.000741444\n",
       " 0.000781887\n",
       " ⋮          \n",
       " 0.00225304 \n",
       " 0.00225776 \n",
       " 0.00226248 \n",
       " 0.00226722 \n",
       " 0.00227197 \n",
       " 0.00227673 \n",
       " 0.0022815  \n",
       " 0.00228629 \n",
       " 0.00229108 \n",
       " 0.00229588 \n",
       " 0.00230069 \n",
       " 0.00230551 "
      ]
     },
     "execution_count": 13,
     "metadata": {},
     "output_type": "execute_result"
    }
   ],
   "source": [
    "maxDur = maximum(rfr_Table[:DUR])\n",
    "\n",
    "@time v_interest_rates1(maxDur,201412,12,0.0)\n",
    "@time v_interest_rates2(maxDur,201412,12,0.0)"
   ]
  },
  {
   "cell_type": "code",
   "execution_count": 8,
   "metadata": {
    "collapsed": false
   },
   "outputs": [
    {
     "data": {
      "text/plain": [
       "2014-12-31"
      ]
     },
     "execution_count": 8,
     "metadata": {},
     "output_type": "execute_result"
    }
   ],
   "source": [
    "MaximumAge = 120\n",
    "ValuationDate = Date(2014,12,31)"
   ]
  },
  {
   "cell_type": "markdown",
   "metadata": {},
   "source": [
    "### Custom Types Objects\n",
    "\n",
    "Might be worthwhile to define composite types for the data items which as associated: e.g define a \"Life\" type/object which describes the details of a life assured. Some interim step would break up our single \"MPF\" data structure into these more object-like groups.\n",
    "\n",
    "This would later enable us to move away from our monolith MPF structure to a more relational/structured data approach."
   ]
  },
  {
   "cell_type": "code",
   "execution_count": 9,
   "metadata": {
    "collapsed": false
   },
   "outputs": [
    {
     "data": {
      "text/plain": [
       "LifeAssured(25.2,0,1)"
      ]
     },
     "execution_count": 9,
     "metadata": {},
     "output_type": "execute_result"
    }
   ],
   "source": [
    "type LifeAssured   \n",
    "    AGE_AT_ENTRY::Float64\n",
    "    SMOKER_STAT::Int64\n",
    "    SEX::Int64\n",
    "end\n",
    "\n",
    "#Create a \"LifeAssured\" called L1\n",
    "L1 = LifeAssured(25.2,0,1)"
   ]
  },
  {
   "cell_type": "code",
   "execution_count": 10,
   "metadata": {
    "collapsed": false
   },
   "outputs": [
    {
     "data": {
      "text/plain": [
       "(25.2,true)"
      ]
     },
     "execution_count": 10,
     "metadata": {},
     "output_type": "execute_result"
    }
   ],
   "source": [
    "# Can access members of \"L1\" using standard \"dot notation\" similar to VB/C#/etc\n",
    "L1.AGE_AT_ENTRY, L1.SEX == 1"
   ]
  },
  {
   "cell_type": "code",
   "execution_count": 11,
   "metadata": {
    "collapsed": false
   },
   "outputs": [],
   "source": [
    "type PolDurations\n",
    "    DURATIONIF_M::Int64\n",
    "    POL_TERM_M::Int64\n",
    "end"
   ]
  },
  {
   "cell_type": "code",
   "execution_count": null,
   "metadata": {
    "collapsed": true
   },
   "outputs": [],
   "source": []
  }
 ],
 "metadata": {
  "kernelspec": {
   "display_name": "Julia 0.5.0",
   "language": "julia",
   "name": "julia-0.5"
  },
  "language_info": {
   "file_extension": ".jl",
   "mimetype": "application/julia",
   "name": "julia",
   "version": "0.5.0"
  }
 },
 "nbformat": 4,
 "nbformat_minor": 0
}
