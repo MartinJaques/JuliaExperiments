{
 "cells": [
  {
   "cell_type": "markdown",
   "metadata": {},
   "source": [
    "# Excel Testing Notebook\n",
    "\n"
   ]
  },
  {
   "cell_type": "code",
   "execution_count": 1,
   "metadata": {
    "collapsed": false
   },
   "outputs": [
    {
     "name": "stderr",
     "output_type": "stream",
     "text": [
      "WARNING: requiring \"Dates\" in module \"Main\" did not define a corresponding module.\n"
     ]
    }
   ],
   "source": [
    "#pull in some useful modules\n",
    "using DataFrames #DataFrames is based on similar concepts in R and Python and gives us indexed tables with headers\n",
    "using Dates"
   ]
  },
  {
   "cell_type": "markdown",
   "metadata": {},
   "source": [
    "## Read_Generic_Table style lookup\n",
    "\n",
    "Implimented as a macro so a bunch of work is done a compile time. Much like Read_Generic_Table this means a single code entry can be used to lookup any table with any number of indexes. The macro reformats this at compile time into the necessary DataFrames calls. It's not especially easy to follow, and there's no real way to ever see the code which is generated.. but arguably the same is true of Read_Generic_Table in Prophet."
   ]
  },
  {
   "cell_type": "code",
   "execution_count": 2,
   "metadata": {
    "collapsed": false
   },
   "outputs": [
    {
     "data": {
      "text/plain": [
       "@TableLookup (macro with 1 method)"
      ]
     },
     "execution_count": 2,
     "metadata": {},
     "output_type": "execute_result"
    }
   ],
   "source": [
    "macro TableLookup(t,returnColumn,indexes...)\n",
    "    for(ind,val) in enumerate(indexes) #loop through the list of supplied index conditions...\n",
    "        if(ind==1)\n",
    "            exp= :($t[$ind].==$val)\n",
    "        else\n",
    "            exp = :($exp & ($t[$ind].==$val)) #... and create a Julia expression of the form\n",
    "                                              # tableName[indexNum]==indexVal]\n",
    "        end\n",
    "        #@show(exp)\n",
    "    end\n",
    "\n",
    "    exp = :($t[$exp,Symbol(DataFrames.makeidentifier($returnColumn))][1]) ##final Julia expression to return\n",
    "    #exp = :($t[$exp,:])\n",
    "    #@show(exp)\n",
    "end\n",
    "    "
   ]
  },
  {
   "cell_type": "markdown",
   "metadata": {},
   "source": [
    "## Load some basis tables\n",
    "\n",
    "Broadly its bad practice to define anything as a global, but we will here for simplicity"
   ]
  },
  {
   "cell_type": "code",
   "execution_count": 3,
   "metadata": {
    "collapsed": false
   },
   "outputs": [
    {
     "data": {
      "text/html": [
       "<table class=\"data-frame\"><tr><th></th><th>DUR</th><th>x201412</th></tr><tr><th>1</th><td>1</td><td>0.384695331</td></tr><tr><th>2</th><td>2</td><td>0.408181475</td></tr><tr><th>3</th><td>3</td><td>0.431706662</td></tr><tr><th>4</th><td>4</td><td>0.455290414</td></tr><tr><th>5</th><td>5</td><td>0.478952254</td></tr><tr><th>6</th><td>6</td><td>0.502711704</td></tr><tr><th>7</th><td>7</td><td>0.526586786</td></tr><tr><th>8</th><td>8</td><td>0.550580543</td></tr><tr><th>9</th><td>9</td><td>0.574676539</td></tr><tr><th>10</th><td>10</td><td>0.598847551</td></tr><tr><th>11</th><td>11</td><td>0.623060474</td></tr><tr><th>12</th><td>12</td><td>0.647278768</td></tr><tr><th>13</th><td>13</td><td>0.671463782</td></tr><tr><th>14</th><td>14</td><td>0.695575508</td></tr><tr><th>15</th><td>15</td><td>0.719573032</td></tr><tr><th>16</th><td>16</td><td>0.743414817</td></tr><tr><th>17</th><td>17</td><td>0.767058889</td></tr><tr><th>18</th><td>18</td><td>0.790462954</td></tr><tr><th>19</th><td>19</td><td>0.813584957</td></tr><tr><th>20</th><td>20</td><td>0.83638796</td></tr><tr><th>21</th><td>21</td><td>0.858843621</td></tr><tr><th>22</th><td>22</td><td>0.880930649</td></tr><tr><th>23</th><td>23</td><td>0.902633274</td></tr><tr><th>24</th><td>24</td><td>0.923940093</td></tr><tr><th>25</th><td>25</td><td>0.944843198</td></tr><tr><th>26</th><td>26</td><td>0.965337507</td></tr><tr><th>27</th><td>27</td><td>0.985420234</td></tr><tr><th>28</th><td>28</td><td>1.005090486</td></tr><tr><th>29</th><td>29</td><td>1.024348932</td></tr><tr><th>30</th><td>30</td><td>1.043197544</td></tr><tr><th>&vellip;</th><td>&vellip;</td><td>&vellip;</td></tr></table>"
      ],
      "text/plain": [
       "720×2 DataFrames.DataFrame\n",
       "│ Row │ DUR │ x201412  │\n",
       "├─────┼─────┼──────────┤\n",
       "│ 1   │ 1   │ 0.384695 │\n",
       "│ 2   │ 2   │ 0.408181 │\n",
       "│ 3   │ 3   │ 0.431707 │\n",
       "│ 4   │ 4   │ 0.45529  │\n",
       "│ 5   │ 5   │ 0.478952 │\n",
       "│ 6   │ 6   │ 0.502712 │\n",
       "│ 7   │ 7   │ 0.526587 │\n",
       "│ 8   │ 8   │ 0.550581 │\n",
       "│ 9   │ 9   │ 0.574677 │\n",
       "│ 10  │ 10  │ 0.598848 │\n",
       "│ 11  │ 11  │ 0.62306  │\n",
       "⋮\n",
       "│ 709 │ 709 │ 2.25738  │\n",
       "│ 710 │ 710 │ 2.25802  │\n",
       "│ 711 │ 711 │ 2.25867  │\n",
       "│ 712 │ 712 │ 2.25932  │\n",
       "│ 713 │ 713 │ 2.25998  │\n",
       "│ 714 │ 714 │ 2.26064  │\n",
       "│ 715 │ 715 │ 2.26131  │\n",
       "│ 716 │ 716 │ 2.26199  │\n",
       "│ 717 │ 717 │ 2.26267  │\n",
       "│ 718 │ 718 │ 2.26336  │\n",
       "│ 719 │ 719 │ 2.26405  │\n",
       "│ 720 │ 720 │ 2.26475  │"
      ]
     },
     "execution_count": 3,
     "metadata": {},
     "output_type": "execute_result"
    }
   ],
   "source": [
    "ilq_Table = readtable(\"basTest_ilq.csv\")\n",
    "rfr_Table = readtable(\"basTest_rfr.csv\")"
   ]
  },
  {
   "cell_type": "markdown",
   "metadata": {},
   "source": [
    "## inline function defintion\n",
    "\n",
    "in Julia it's possible to define simple functions in the form `f(x) = 2x+1` which we use here to define two versions of the conversion from a yeild curve data to discrete spot rates. (really one would do but this demonstrates multiple dispatch a bit)"
   ]
  },
  {
   "cell_type": "code",
   "execution_count": 4,
   "metadata": {
    "collapsed": false
   },
   "outputs": [
    {
     "data": {
      "text/plain": [
       "ann_spot_rate (generic function with 2 methods)"
      ]
     },
     "execution_count": 4,
     "metadata": {},
     "output_type": "execute_result"
    }
   ],
   "source": [
    "ann_spot_rate(foi) = e^(foi/100)-1\n",
    "ann_spot_rate(foi,illiqPC) = (e^(foi/100)-1)*(illiqPC/100)"
   ]
  },
  {
   "cell_type": "markdown",
   "metadata": {},
   "source": [
    "## \"Dumb\" Conversion of v_Calc_Interest_Rates\n",
    "\n",
    "This version of the calculation approaches things like the excel model = everything is an array, and everything happens within one big loop, much like Prophet. It also does a bunch of work it doesn't need to where `spot_rate_freq` is set to something other than 12, because everything between `vsr` and `mfr` is essentially thrown away in the non-calc months, but I don't believe there's any way when converting the Excel formula to necessarily anticipate this."
   ]
  },
  {
   "cell_type": "code",
   "execution_count": 5,
   "metadata": {
    "collapsed": false
   },
   "outputs": [
    {
     "data": {
      "text/plain": [
       "v_interest_rates1 (generic function with 1 method)"
      ]
     },
     "execution_count": 5,
     "metadata": {},
     "output_type": "execute_result"
    }
   ],
   "source": [
    "function v_interest_rates1(maxTerm::Integer,yeildCurve::Integer,spot_rate_freq::Integer,illiqPC::Float64)\n",
    "    \n",
    "    #Array initialisation. Reasonable to expect we can antipate this from the Excel structure\n",
    "    rfr = zeros(maxTerm)\n",
    "    ilq = zeros(maxTerm)\n",
    "    vsr = zeros(maxTerm)\n",
    "    calc_forward_rate = zeros(maxTerm)\n",
    "    t1 = zeros(maxTerm)\n",
    "    t2 = zeros(maxTerm)\n",
    "    s1 = zeros(maxTerm)\n",
    "    s2 = zeros(maxTerm)\n",
    "    fra = zeros(maxTerm)\n",
    "    mfr = zeros(maxTerm)    \n",
    "   \n",
    "    #Column E\n",
    "    for t in 1:maxTerm #for each row...\n",
    "\n",
    "        #lookup risk free rate and illiquidity values and perfom the spot rate calc. The form here would only be possible\n",
    "        #if we'd also implimented as ann_spot_rate function in Excel\n",
    "        \n",
    "        #Columns F and G\n",
    "        rfr[t] = ann_spot_rate(@TableLookup(rfr_Table,string(yeildCurve),t))        \n",
    "        \n",
    "        #Columns H and I\n",
    "        ilq[t] = ann_spot_rate(@TableLookup(ilq_Table,string(yeildCurve),t),illiqPC)\n",
    "        \n",
    "        #Column J\n",
    "        vsr[t]=rfr[t]+ilq[t]\n",
    "        \n",
    "        #Column K\n",
    "        if mod((t-1)*spot_rate_freq,12)==0\n",
    "            calc_forward_rate[t]=1\n",
    "        else\n",
    "            calc_forward_rate[t]=0\n",
    "        end\n",
    "        \n",
    "        #Column L\n",
    "        if calc_forward_rate[t]==1\n",
    "            t1[t]=(t-1)/12\n",
    "        else\n",
    "            t1[t]=0\n",
    "        end\n",
    "        \n",
    "        #Column M\n",
    "        if calc_forward_rate[t]==1\n",
    "            t2[t]=t/12\n",
    "        else\n",
    "            t2[t]=0\n",
    "        end\n",
    "        \n",
    "        #Column N\n",
    "        if t>1\n",
    "          s1[t]=vsr[t-1]\n",
    "        else\n",
    "          s1[t]=vsr[t]\n",
    "        end\n",
    "        \n",
    "        #Column O\n",
    "        s2[t] = vsr[t]\n",
    "        \n",
    "        #Column P\n",
    "        if calc_forward_rate[t]==1\n",
    "            fra[t] = ((1+s2[t])^t2[t]/(1+s1[t])^t1[t])^(1/(t2[t]-t1[t]))-1\n",
    "        else\n",
    "            fra[t]= fra[t-1]\n",
    "        end\n",
    "        \n",
    "        #Column Q\n",
    "        mfr[t] = (1+fra[t])^(1/12)-1\n",
    "    end\n",
    "    \n",
    "    #Assume we've specified somehow that this is the value from the see we want available elsewhere\n",
    "    mfr\n",
    "end"
   ]
  },
  {
   "cell_type": "markdown",
   "metadata": {},
   "source": [
    "## \"Hand-coded\" Conversion of  v_Calc_Interest_Rates\n",
    "\n",
    "This version recognises that the entire yeild curve is required at some point, so retrieves it in one go (this is probably where the majority of the performance benefit is). It also does a better job of avoiding uncessary calculation and memory use by not retaining transient data and skipping the entire process on non-calc months."
   ]
  },
  {
   "cell_type": "code",
   "execution_count": 6,
   "metadata": {
    "collapsed": false
   },
   "outputs": [
    {
     "data": {
      "text/plain": [
       "v_interest_rates2 (generic function with 1 method)"
      ]
     },
     "execution_count": 6,
     "metadata": {},
     "output_type": "execute_result"
    }
   ],
   "source": [
    "function v_interest_rates2(maxTerm::Integer,yeildCurve::Integer,spot_rate_freq::Integer,illiqPC::Float64)\n",
    "\n",
    "    forward_rate = zeros(maxTerm)\n",
    "    monthly_forward_rate = zeros(maxTerm)\n",
    "    vsr = zeros(maxTerm)\n",
    "\n",
    "    #get the entire column from the table. There's probably a more reable way to do this\n",
    "    rfr_fofi = rfr_Table[Symbol(DataFrames.makeidentifier(string(yeildCurve)))] \n",
    "    ilq_fofi = ilq_Table[Symbol(DataFrames.makeidentifier(string(yeildCurve)))]\n",
    "\n",
    "    for t in 1:maxTerm\n",
    "\n",
    "        #potentially could make ann_spot_rate work on vectors and move this outside the loop\n",
    "        vsr[t] = ann_spot_rate(rfr_fofi[t]) + ann_spot_rate(ilq_fofi[t],illiqPC)\n",
    "\n",
    "        if t==1\n",
    "            forward_rate[t] = vsr[t]\n",
    "        elseif mod((t-1)*spot_rate_freq,12)==0\n",
    "            t1 = (t-1)/12\n",
    "            t2 = t/12\n",
    "            s1 = vsr[t-1]\n",
    "            s2 = vsr[t]\n",
    "\n",
    "            forward_rate[t] = ((1+s2)^t2/(1+s1)^t1)^(1/(t2-t1))-1\n",
    "\n",
    "        else\n",
    "            forward_rate[t] = forward_rate[t-1]\n",
    "        end\n",
    "        \n",
    "        monthly_forward_rate[t] = (1+forward_rate[t])^(1/12)-1\n",
    "    end\n",
    "\n",
    "    monthly_forward_rate\n",
    "end"
   ]
  },
  {
   "cell_type": "markdown",
   "metadata": {},
   "source": [
    "### Performance Testing\n",
    "\n",
    "v2 function is significantly quicker, and scales better - at 50 iterations is around 3x faster, on this 720 iteration loop it's over 10x faster. "
   ]
  },
  {
   "cell_type": "code",
   "execution_count": 7,
   "metadata": {
    "collapsed": false
   },
   "outputs": [
    {
     "name": "stdout",
     "output_type": "stream",
     "text": [
      "  0.250552 seconds (130.65 k allocations: 6.839 MB)\n",
      "  0.040246 seconds (17.42 k allocations: 565.939 KB)\n"
     ]
    },
    {
     "data": {
      "text/plain": [
       "720-element Array{Float64,1}:\n",
       " 0.000320631\n",
       " 0.000359788\n",
       " 0.000399044\n",
       " 0.000438464\n",
       " 0.000478114\n",
       " 0.000518058\n",
       " 0.000558354\n",
       " 0.00059896 \n",
       " 0.000639742\n",
       " 0.000680554\n",
       " 0.000721251\n",
       " 0.00076169 \n",
       " 0.000801725\n",
       " ⋮          \n",
       " 0.00225723 \n",
       " 0.00226195 \n",
       " 0.00226668 \n",
       " 0.00227143 \n",
       " 0.00227618 \n",
       " 0.00228095 \n",
       " 0.00228573 \n",
       " 0.00229051 \n",
       " 0.00229531 \n",
       " 0.00230012 \n",
       " 0.00230493 \n",
       " 0.00230976 "
      ]
     },
     "execution_count": 7,
     "metadata": {},
     "output_type": "execute_result"
    }
   ],
   "source": [
    "maxDur = maximum(rfr_Table[:DUR])\n",
    "\n",
    "@time v_interest_rates1(maxDur,201412,12,0.0)\n",
    "@time v_interest_rates2(maxDur,201412,12,0.0)"
   ]
  },
  {
   "cell_type": "code",
   "execution_count": 44,
   "metadata": {
    "collapsed": false
   },
   "outputs": [
    {
     "data": {
      "text/plain": [
       "2014-12-31"
      ]
     },
     "execution_count": 44,
     "metadata": {},
     "output_type": "execute_result"
    }
   ],
   "source": [
    "MaximumAge = 120\n",
    "ValuationDate = Date(2014,12,31)"
   ]
  },
  {
   "cell_type": "code",
   "execution_count": null,
   "metadata": {
    "collapsed": true
   },
   "outputs": [],
   "source": [
    "function v_Mortality_Rates1(maxT::Integer, AGE_AT_ENTRY::Float64, DURATIONIF_M::Integer)\n",
    "    \n",
    "    polMonth = zeros(maxT)    \n",
    "    eom = zeros(Date,maxT)\n",
    "    calYear = zeros(maxT)\n",
    "    polYear = zeros(maxT)\n",
    "    L1_age_at_eom = zeros(maxT)\n",
    "    L1Base_AMR_yd = zeros(maxT)\n",
    "    \n",
    "    L1Sel_Last_ns = zeros(maxT)\n",
    "    L1Sel_Next_ns = zeros(maxT)\n",
    "    L1Age_Ratio_ns = zeros(maxT)\n",
    "    L1Base_AMR_sel_ns = zeros(maxT)\n",
    "    \n",
    "    L1Sel_Last_smk = zeros(maxT)\n",
    "    L1Sel_Next_smk = zeros(maxT)\n",
    "    L1Age_Ratio_smk = zeros(maxT)\n",
    "    L1Base_AMR_sel_smk = zeros(maxT)\n",
    "    \n",
    "    L1Base_AMR_sel = zeros(maxT)\n",
    "    \n",
    "    L1Improv = zeros(maxT)\n",
    "    \n",
    "    YrDepCIGteeLoad = zeros(maxT)\n",
    "    CIGteeLoad = zeros(maxT)\n",
    "    \n",
    "    for t in 1:maxT\n",
    "        \n",
    "        #Column A\n",
    "        if t==1\n",
    "            polMonth[t] = DURATIONIF_M+1\n",
    "        else\n",
    "            polMonth[t] = polMonth[t-1]+1\n",
    "        end\n",
    "        \n",
    "        #Column B\n",
    "        if t==1\n",
    "            eom[t] = Dates.lastdayofmonth(ValuationDate+1)\n",
    "        else\n",
    "            eom[t] = Dates.lastdayofmonth(eom[t]+1)\n",
    "        end\n",
    "            \n",
    "        \n",
    "        #Column C\n",
    "        calYear[t] = year(eom[t])\n",
    "        \n",
    "        #Column D\n",
    "        polYear[t] = floor((polMonth[t]+11)/12)\n",
    "    \n",
    "        #Column F\n",
    "        L1_age_at_eom[t] = min(AT_AT_ENTRY+polYear[t]-1,MaximumAge)\n",
    "        \n",
    "        #Column G\n",
    "        tbl = Gender1==0?BasTab_ydmr_male:BasTab_ydmr_female\n",
    "        col = min(calYear[t],maxyear)-minyear\n",
    "        indx = floor(L1_age_at_eom[t])\n",
    "        L1Base_AMR_yd = @TableLookup(tbl,col,indx)\n",
    "                \n",
    "        #Column H - =IF(INT(F7)-INT(AgeAtEntry1)>V_L1SelPeriod,\n",
    "             #OFFSET(INDIRECT(V_L1MortTable_NS&\"!$B$2\"),INT(F7),V_L1SelPeriod),\n",
    "             #OFFSET(INDIRECT(V_L1MortTable_NS&\"!$B$2\"),INT(AgeAtEntry1)+ V_L1SelPeriod,INT(F7)-INT(AgeAtEntry1)))\n",
    "        if floor(L1_age_at_eom[t]) - floor(AGE_AT_ENTRY) > L1SelPeriod #arg            \n",
    "            L1Sel_Last_ns[t] =  @TableLookup(L1MortTable_NS,L1SelPeriod,floor(L1_age_at_eom[t]))\n",
    "        else\n",
    "            L1Sel_Last_ns[t] = @TableLookup(L1MortTable_NS,floor(L1_age_at_eom[t])-floor(AGE_AT_ENTRY),floor(AGE_AT_ENTRY)-L1SelPeriod)\n",
    "        end\n",
    "        \n",
    "        #Column I - =IF(INT(F7+1)-INT(AgeAtEntry1)>V_L1SelPeriod,\n",
    "            #OFFSET(INDIRECT(V_L1MortTable_NS&\"!$B$2\"),INT(F7+1),V_L1SelPeriod),\n",
    "            #OFFSET(INDIRECT(V_L1MortTable_NS&\"!$B$2\"),INT(AgeAtEntry1+1)+ V_L1SelPeriod,INT(F7)-INT(AgeAtEntry1)))\n",
    "        if floor(L1_age_at_eom[t]+1) - floor(AGE_AT_ENTRY) > L1SelPeriod #arg\n",
    "            L1Sel_Next_ns[t] =  @TableLookup(L1MortTable_NS,L1SelPeriod,floor(L1_age_at_eom[t]+1))\n",
    "        else\n",
    "            L1Sel_Next_ns[t] = @TableLookup(L1MortTable_NS,floor(L1_age_at_eom[t])-floor(AGE_AT_ENTRY+1),floor(AGE_AT_ENTRY)-L1SelPeriod)\n",
    "        end        \n",
    "        \n",
    "        #Column J - =AgeAtEntry1-INT(AgeAtEntry1)\n",
    "        L1Age_Ratio_ns[t] = AGE_AT_ENTRY - floor(AGE_AT_ENTRY)\n",
    "        \n",
    "        #Column K - =I7*J7+H7*(1-J7)\n",
    "        L1Base_AMR_sel_ns[t] = L1Sel_Last_ns[t] * L1Age_Ratio_ns[t] + L1Sel_Last_ns[t] * (1-L1Age_Ratio_ns[t])\n",
    "        \n",
    "        #Column L - =IF(INT(F7)-INT(AgeAtEntry1)>V_L1SelPeriod,\n",
    "             #OFFSET(INDIRECT(V_L1MortTable_S&\"!$B$2\"),INT(F7),V_L1SelPeriod),\n",
    "             #OFFSET(INDIRECT(V_L1MortTable_S&\"!$B$2\"),INT(AgeAtEntry1)+ V_L1SelPeriod,INT(F7)-INT(AgeAtEntry1)))\n",
    "        if floor(L1_age_at_eom[t]) - floor(AGE_AT_ENTRY) > L1SelPeriod #arg\n",
    "            L1Sel_Last_smk[t] = @TableLookup(L1MortTable_S,L1SelPeriod,floor(L1_age_at_eom[t]))\n",
    "        else\n",
    "            L1Sel_Last_smk[t] = @TableLookup(L1MortTable_S,floor(L1_age_at_eom[t])-floor(AGE_AT_ENTRY),floor(AGE_AT_ENTRY)-L1SelPeriod)\n",
    "        end\n",
    "        \n",
    "        #Column M - =IF(INT(F7+1)-INT(AgeAtEntry1)>V_L1SelPeriod,\n",
    "             #OFFSET(INDIRECT(V_L1MortTable_S&\"!$B$2\"),INT(F7+1),V_L1SelPeriod),\n",
    "             #OFFSET(INDIRECT(V_L1MortTable_S&\"!$B$2\"),INT(AgeAtEntry1+1)+ V_L1SelPeriod,INT(F7)-INT(AgeAtEntry1)))\n",
    "        if floor(L1_age_at_eom[t]+1) - floor(AGE_AT_ENTRY) > L1SelPeriod #arg\n",
    "            L1Sel_Next_smk[t] = @TableLookup(L1MortTable_S,L1SelPeriod,floor(L1_age_at_eom[t]+1))\n",
    "        else\n",
    "            L1Sel_Next_smk[t] = @TableLookup(L1MortTable_S,floor(L1_age_at_eom[t])-floor(AGE_AT_ENTRY+1),floor(AGE_AT_ENTRY)-L1SelPeriod)\n",
    "        end        \n",
    "        \n",
    "        #Column N - =AgeAtEntry1-INT(AgeAtEntry1)\n",
    "        L1Age_Ratio_smk[t] = AGE_AT_ENTRY - floor(AGE_AT_ENTRY)\n",
    "        \n",
    "        #Column O - =M7*N7+L7*(1-N7)\n",
    "        L1Base_AMR_sel_smk[t] = L1Sel_Last_smk[t] * L1Age_Ratio_smk[t] + L1Sel_Last_smk[t] * (1-L1Age_Ratio_smk[t])            \n",
    "        \n",
    "        #Column P - =IF(OR(V_L1SelUlt=\"Ult\",INT(F7)-INT(AgeAtEntry1)>V_L1SelPeriod),\n",
    "             #OFFSET(INDIRECT(V_L1MortTable_NS&\"!$B$2\"),INT(F7),V_L1SelPeriod),\n",
    "             #OFFSET(INDIRECT(V_L1MortTable_NS&\"!$B$2\"),INT(AgeAtEntry1)+ V_L1SelPeriod,INT(F7)-INT(AgeAtEntry1)))\n",
    "        if L1SelUlt == \"Ult\" || floor(L1_age_at_eom[t]) - floor(AGE_AT_ENTRY) > L1SelPeriod\n",
    "            L1Base_AMR_sel = @TableLookup(L1MortTable_NS,L1SelPeriod,floor(L1_age_at_eom[t]))\n",
    "        else\n",
    "            L1Base_AMR_sel = @TableLookup(L1MortTable_NS,floor(L1_age_at_eom[t])-floor(AGE_AT_ENTRY),floor(AGE_AT_ENTRY))\n",
    "        end\n",
    "        \n",
    "        #Column Q - =IF(V_L1MortTabType=\"Year Dep\",G7,K7*(1-SmokerStat)+O7*SmokerStat)\n",
    "        if L1MortTabType == \"Year Dep\"\n",
    "            L1Base_AMR[t] = L1Base_AMR_yd[t]\n",
    "        else\n",
    "            L1Base_AMR[t] = L1Base_AMR_sel_ns[t] * (1-SmokerStat)+ L1Base_AMR_sel_smk[t] * SmokerStat\n",
    "        end\n",
    "        \n",
    "        #Column R t=0 code is a problem, formula in Excel probably needs restructuring. This loop (and Julia arrays)\n",
    "        #has no 0 condition.\n",
    "        \n",
    "        # t=0: =OFFSET(IF(Gender1=0, \n",
    "                    #'BasTab-V NAgeDEP Mort Imp Male'!$B$2, \n",
    "                    #'BasTab-V NAgeDEPMort Imp Female'!$B$2),MIN($C6,V_L1MortImpMaxYr)-V_L1MortImpMinYr,0)\n",
    "        # t>0: IF(AND(MOD(A7,12)=1,YEAR(B7)<=MortImpMaxYear,MortImpType=1),\n",
    "                    #OFFSET(IF(Gender1=0, \n",
    "                        #'BasTab-V NAgeDEP Mort Imp Male'!$B$2,\n",
    "                        #'BasTab-V NAgeDEPMort Imp Female'!$B$2),MIN($C7,V_L1MortImpMaxYr)-V_L1MortImpMinYr,0),\n",
    "                    #R6)\n",
    "                            \n",
    "        if (mod(polMonth[t],12)==1 && year(eom[t]) <= MortImpMaxYear && MortImpType==1) \n",
    "            tbl = Gender1==0? NAgeDEP_Mort_Imp_Male : NAgeDEP_Mort_Imp_Female\n",
    "            index = min(calYear[t],L1MortImpMaxYr)-L1MortImpMinYr\n",
    "            L1Improv[t] = @TableLookup(tbl,\"Improv\",index)\n",
    "        else                        \n",
    "            if t==1\n",
    "                tbl = Gender1==0? NAgeDEP_Mort_Imp_Male : NAgeDEP_Mort_Imp_Female                \n",
    "                index = min(year(ValuationDate),L1MortImpMaxYr)-L1MortImpMinYr\n",
    "                L1Improv[t] = @TableLookup(tbl,\"Improv\",index)\n",
    "            else\n",
    "                L1Improv[t] = L1Improv[t-1]\n",
    "            end\n",
    "        end\n",
    "        \n",
    "        #Column Z - =INDEX('BasTab-Guarentee Loadings'!$A:$J,C7-ValuationYear+1,MATCH(Life1CIGuarenteeTable,'BasTab-Guarentee Loadings'!$1:$1,0))\n",
    "        L1YrDepCIGteeLoad[t] = basTab_GteeLoadings[calYear[t]-year(ValuationDate)+1,Symbol(Life1CIGuaranteeTable)][1]\n",
    "        \n",
    "        #Column AA - =INDEX('BasTab-Guarentee Loadings'!$A:$J,PolTermY+2,MATCH(Life1CIGuarenteeTable,'BasTab-Guarentee Loadings'!$1:$1,0))\n",
    "        L1NDepCIGteeLoad[t] = basTab_GteeLoadings[POL_TERM_Y+2,Symbol(Life1CIGuaranteeTable)][1]\n",
    "               \n",
    "        #Column AB -  =IF(Life1CIGuarenteeType=\"NA\",0,IF(Life1CIGuarenteeType=2,IF(MONTH(B7)=12,Z7,AB6),AA7))\n",
    "        if Life1CIGuaranteeType == \"NA\"\n",
    "            L1CIGteeLoad[t] = 0\n",
    "        else\n",
    "            if Life1CIGuaranteeType == 2\n",
    "                if month(eom[t])==12\n",
    "                    L1CIGteeLoad[t] = L1YrDepCIGteeLoad[t]\n",
    "                else\n",
    "                    if t==1\n",
    "                        L1CIGteeLoad[t] = 0\n",
    "                    else\n",
    "                        L1CIGteeLoad[t] = Acc_CIGteeLoad[t-1]\n",
    "                    end\n",
    "                end\n",
    "            else\n",
    "                L1CIGteeLoad[t] = L1NDepCIGteeLoad[t]\n",
    "            end\n",
    "        end\n",
    "        \n",
    "        #Column AC - =IF(MONTH(B7)=12,IF(Life1CIGuarenteeType=2,(100+AC6)*(1+AB7/100)-100,AB7),AC6)\n",
    "        if month(eom[t])=12\n",
    "            if Life1CIGuarenteeType=2\n",
    "                if t==1\n",
    "                    L1Acc_CIGteeLoad[t] = L1CIGteeLoad[t]\n",
    "                else                    \n",
    "                    L1Acc_CIGteeLoad[t] = (100+L1Acc_CIGteeLoad[t-1])*(1+L1CIGteeLoad[t]/100)-100\n",
    "                end\n",
    "            else\n",
    "                L1Acc_CIGteeLoad[t] = L1CIGteeLoad[t]\n",
    "            end\n",
    "        else\n",
    "            if t==1\n",
    "                L1Acc_CIGteeLoad[t] = 0\n",
    "            else\n",
    "                L1Acc_CIGteeLoad[t] = L1Acc_CIGteeLoad[t-1]\n",
    "            end\n",
    "        end\n",
    "                \n",
    "        #Column AD - =IF(ProdType_Ind = 1, AB7, IF(MOD(A7,12) = 1, AC7, AD6))\n",
    "        if ProdType_Ind = 1\n",
    "            L1PolAnn[t] = L1CIGteeLoad[t]\n",
    "        else\n",
    "            if mod(polMonth[t],12)==1\n",
    "                L1PolAnn[t] = L1Acc_CIGteeLoad[t]\n",
    "            else\n",
    "                if t==1\n",
    "                    L1PolAnn[t]=0\n",
    "                else\n",
    "                    L1PolAnn = L1PolAnn[t-1]\n",
    "                end\n",
    "            end\n",
    "        end\n",
    "        \n",
    "        "
   ]
  }
 ],
 "metadata": {
  "kernelspec": {
   "display_name": "Julia 0.5.0",
   "language": "julia",
   "name": "julia-0.5"
  },
  "language_info": {
   "file_extension": ".jl",
   "mimetype": "application/julia",
   "name": "julia",
   "version": "0.5.0"
  }
 },
 "nbformat": 4,
 "nbformat_minor": 0
}
